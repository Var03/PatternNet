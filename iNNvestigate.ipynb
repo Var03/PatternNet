{
 "cells": [
  {
   "cell_type": "code",
   "execution_count": 1,
   "id": "022678e3",
   "metadata": {},
   "outputs": [
    {
     "name": "stderr",
     "output_type": "stream",
     "text": [
      "Using TensorFlow backend.\n",
      "C:\\Users\\varun\\anaconda3\\envs\\iNNv\\lib\\site-packages\\tensorflow\\python\\framework\\dtypes.py:523: FutureWarning: Passing (type, 1) or '1type' as a synonym of type is deprecated; in a future version of numpy, it will be understood as (type, (1,)) / '(1,)type'.\n",
      "  _np_qint8 = np.dtype([(\"qint8\", np.int8, 1)])\n",
      "C:\\Users\\varun\\anaconda3\\envs\\iNNv\\lib\\site-packages\\tensorflow\\python\\framework\\dtypes.py:524: FutureWarning: Passing (type, 1) or '1type' as a synonym of type is deprecated; in a future version of numpy, it will be understood as (type, (1,)) / '(1,)type'.\n",
      "  _np_quint8 = np.dtype([(\"quint8\", np.uint8, 1)])\n",
      "C:\\Users\\varun\\anaconda3\\envs\\iNNv\\lib\\site-packages\\tensorflow\\python\\framework\\dtypes.py:525: FutureWarning: Passing (type, 1) or '1type' as a synonym of type is deprecated; in a future version of numpy, it will be understood as (type, (1,)) / '(1,)type'.\n",
      "  _np_qint16 = np.dtype([(\"qint16\", np.int16, 1)])\n",
      "C:\\Users\\varun\\anaconda3\\envs\\iNNv\\lib\\site-packages\\tensorflow\\python\\framework\\dtypes.py:526: FutureWarning: Passing (type, 1) or '1type' as a synonym of type is deprecated; in a future version of numpy, it will be understood as (type, (1,)) / '(1,)type'.\n",
      "  _np_quint16 = np.dtype([(\"quint16\", np.uint16, 1)])\n",
      "C:\\Users\\varun\\anaconda3\\envs\\iNNv\\lib\\site-packages\\tensorflow\\python\\framework\\dtypes.py:527: FutureWarning: Passing (type, 1) or '1type' as a synonym of type is deprecated; in a future version of numpy, it will be understood as (type, (1,)) / '(1,)type'.\n",
      "  _np_qint32 = np.dtype([(\"qint32\", np.int32, 1)])\n",
      "C:\\Users\\varun\\anaconda3\\envs\\iNNv\\lib\\site-packages\\tensorflow\\python\\framework\\dtypes.py:532: FutureWarning: Passing (type, 1) or '1type' as a synonym of type is deprecated; in a future version of numpy, it will be understood as (type, (1,)) / '(1,)type'.\n",
      "  np_resource = np.dtype([(\"resource\", np.ubyte, 1)])\n"
     ]
    },
    {
     "data": {
      "text/plain": [
       "'2.2.4'"
      ]
     },
     "execution_count": 1,
     "metadata": {},
     "output_type": "execute_result"
    }
   ],
   "source": [
    "import innvestigate\n",
    "import innvestigate.utils\n",
    "import keras.applications.vgg16 as vgg16\n",
    "import keras\n",
    "keras.__version__"
   ]
  },
  {
   "cell_type": "code",
   "execution_count": 2,
   "id": "56e1f2d3",
   "metadata": {},
   "outputs": [],
   "source": [
    "# Get model\n",
    "model, preprocess = vgg16.VGG16(), vgg16.preprocess_input\n",
    "# Strip softmax layer\n",
    "model = innvestigate.utils.model_wo_softmax(model)"
   ]
  },
  {
   "cell_type": "code",
   "execution_count": 3,
   "id": "1f9a3758",
   "metadata": {},
   "outputs": [
    {
     "data": {
      "text/plain": [
       "[<keras.engine.input_layer.InputLayer at 0x1304a3f8438>,\n",
       " <keras.layers.convolutional.Conv2D at 0x1304a3f8d30>,\n",
       " <keras.layers.convolutional.Conv2D at 0x1304a3f8ba8>,\n",
       " <keras.layers.pooling.MaxPooling2D at 0x1304a414e80>,\n",
       " <keras.layers.convolutional.Conv2D at 0x1304a414f28>,\n",
       " <keras.layers.convolutional.Conv2D at 0x1304a45fb00>,\n",
       " <keras.layers.pooling.MaxPooling2D at 0x1304a480240>,\n",
       " <keras.layers.convolutional.Conv2D at 0x1304a480080>,\n",
       " <keras.layers.convolutional.Conv2D at 0x1304a4c0748>,\n",
       " <keras.layers.convolutional.Conv2D at 0x1304a4c0cc0>,\n",
       " <keras.layers.pooling.MaxPooling2D at 0x1304a4fbef0>,\n",
       " <keras.layers.convolutional.Conv2D at 0x1304a4fbcc0>,\n",
       " <keras.layers.convolutional.Conv2D at 0x1304a541828>,\n",
       " <keras.layers.convolutional.Conv2D at 0x1304a55bbe0>,\n",
       " <keras.layers.pooling.MaxPooling2D at 0x1304a579f60>,\n",
       " <keras.layers.convolutional.Conv2D at 0x1304a579c88>,\n",
       " <keras.layers.convolutional.Conv2D at 0x1304a5be8d0>,\n",
       " <keras.layers.convolutional.Conv2D at 0x1304a5ddf28>,\n",
       " <keras.layers.pooling.MaxPooling2D at 0x1304a5f7668>,\n",
       " <keras.layers.core.Flatten at 0x1304a5f7e48>,\n",
       " <keras.layers.core.Dense at 0x1304a6206a0>,\n",
       " <keras.layers.core.Dense at 0x1304a63c4a8>,\n",
       " <keras.layers.core.Dense at 0x1304a3f84a8>]"
      ]
     },
     "execution_count": 3,
     "metadata": {},
     "output_type": "execute_result"
    }
   ],
   "source": [
    "model.layers"
   ]
  },
  {
   "cell_type": "code",
   "execution_count": 4,
   "id": "bea42e11",
   "metadata": {},
   "outputs": [
    {
     "data": {
      "text/plain": [
       "array([[[[255., 255., 255.],\n",
       "         [255., 255., 255.],\n",
       "         [255., 255., 255.],\n",
       "         ...,\n",
       "         [255., 255., 255.],\n",
       "         [255., 255., 255.],\n",
       "         [255., 255., 255.]],\n",
       "\n",
       "        [[255., 255., 255.],\n",
       "         [255., 255., 255.],\n",
       "         [255., 255., 255.],\n",
       "         ...,\n",
       "         [255., 255., 255.],\n",
       "         [255., 255., 255.],\n",
       "         [255., 255., 255.]],\n",
       "\n",
       "        [[255., 255., 255.],\n",
       "         [255., 255., 255.],\n",
       "         [255., 255., 255.],\n",
       "         ...,\n",
       "         [255., 255., 255.],\n",
       "         [255., 255., 255.],\n",
       "         [255., 255., 255.]],\n",
       "\n",
       "        ...,\n",
       "\n",
       "        [[255., 255., 255.],\n",
       "         [255., 255., 255.],\n",
       "         [255., 255., 255.],\n",
       "         ...,\n",
       "         [255., 255., 255.],\n",
       "         [255., 255., 255.],\n",
       "         [255., 255., 255.]],\n",
       "\n",
       "        [[255., 255., 255.],\n",
       "         [255., 255., 255.],\n",
       "         [255., 255., 255.],\n",
       "         ...,\n",
       "         [255., 255., 255.],\n",
       "         [255., 255., 255.],\n",
       "         [255., 255., 255.]],\n",
       "\n",
       "        [[255., 255., 255.],\n",
       "         [255., 255., 255.],\n",
       "         [255., 255., 255.],\n",
       "         ...,\n",
       "         [255., 255., 255.],\n",
       "         [255., 255., 255.],\n",
       "         [255., 255., 255.]]]], dtype=float32)"
      ]
     },
     "metadata": {},
     "output_type": "display_data"
    }
   ],
   "source": [
    "# Create analyzer\n",
    "analyzer = innvestigate.create_analyzer(\"deep_taylor\", model)\n",
    "\n",
    "from PIL import Image\n",
    "import tensorflow.keras\n",
    "import numpy as np\n",
    "from tensorflow.keras.preprocessing import image\n",
    "baseball = 'Baseball.png'\n",
    "img = image.load_img(baseball, color_mode='rgb', target_size=(224, 224))\n",
    "x=image.img_to_array(img)\n",
    "x=np.expand_dims(x,axis=0)\n",
    "\n",
    "display(x)"
   ]
  },
  {
   "cell_type": "code",
   "execution_count": 5,
   "id": "97a55f3c",
   "metadata": {},
   "outputs": [],
   "source": [
    "# Add batch axis and preprocess\n",
    "x1 = preprocess(x)\n",
    "# Apply analyzer w.r.t. maximum activated output-neuron\n",
    "a = analyzer.analyze(x1)"
   ]
  },
  {
   "cell_type": "code",
   "execution_count": 6,
   "id": "450f47d9",
   "metadata": {},
   "outputs": [
    {
     "data": {
      "text/plain": [
       "<matplotlib.image.AxesImage at 0x1305ed68048>"
      ]
     },
     "execution_count": 6,
     "metadata": {},
     "output_type": "execute_result"
    },
    {
     "data": {
      "image/png": "[encoded data removed]",
      "text/plain": [
       "<Figure size 432x288 with 1 Axes>"
      ]
     },
     "metadata": {
      "needs_background": "light"
     },
     "output_type": "display_data"
    }
   ],
   "source": [
    "# Aggregate along color channels and normalize to [-1, 1]\n",
    "a = a.sum(axis=np.argmax(np.asarray(a.shape) == 3))\n",
    "a /= np.max(np.abs(a))\n",
    "# Plot\n",
    "import matplotlib.pyplot as plt\n",
    "plt.imshow(a[0], cmap=\"seismic\", clim=(-1, 1))"
   ]
  }
 ],
 "metadata": {
  "kernelspec": {
   "display_name": "Python 3",
   "language": "python",
   "name": "python3"
  },
  "language_info": {
   "codemirror_mode": {
    "name": "ipython",
    "version": 3
   },
   "file_extension": ".py",
   "mimetype": "text/x-python",
   "name": "python",
   "nbconvert_exporter": "python",
   "pygments_lexer": "ipython3",
   "version": "3.8.8"
  }
 },
 "nbformat": 4,
 "nbformat_minor": 5
}
